{
 "cells": [
  {
   "cell_type": "code",
   "execution_count": 3,
   "id": "c0c37f61",
   "metadata": {},
   "outputs": [],
   "source": [
    "# Setup imports\n",
    "# https://jakevdp.github.io/blog/2017/12/05/installing-python-packages-from-jupyter/\n",
    "import sys\n",
    "!{sys.executable} -m pip install -Uqq fastbook\n",
    "\n",
    "\n",
    "import fastbook\n",
    "#fastbook.setup_book()\n",
    "from fastbook import *\n",
    "from fastai.vision.widgets import *"
   ]
  },
  {
   "cell_type": "code",
   "execution_count": 4,
   "id": "0c50041c",
   "metadata": {},
   "outputs": [
    {
     "data": {
      "text/plain": [
       "(#1) [Path('bear_classifier.pkl')]"
      ]
     },
     "execution_count": 4,
     "metadata": {},
     "output_type": "execute_result"
    }
   ],
   "source": [
    "path = Path()\n",
    "path.ls(file_exts='.pkl')"
   ]
  },
  {
   "cell_type": "code",
   "execution_count": 5,
   "id": "5b044bb7",
   "metadata": {},
   "outputs": [
    {
     "data": {
      "text/plain": [
       "['black', 'grizzly', 'teddy']"
      ]
     },
     "execution_count": 5,
     "metadata": {},
     "output_type": "execute_result"
    }
   ],
   "source": [
    "# Get the model \n",
    "learn_inf = load_learner(path/'bear_classifier.pkl')\n",
    "learn_inf.dls.vocab"
   ]
  },
  {
   "cell_type": "code",
   "execution_count": 6,
   "id": "3765f50d",
   "metadata": {},
   "outputs": [],
   "source": [
    "#learn_inf.predict('grizzlyb.jpeg')"
   ]
  },
  {
   "cell_type": "code",
   "execution_count": 7,
   "id": "136a8053",
   "metadata": {},
   "outputs": [
    {
     "data": {
      "application/vnd.jupyter.widget-view+json": {
       "model_id": "db1fae1b190947f8a58f0f740959748b",
       "version_major": 2,
       "version_minor": 0
      },
      "text/plain": [
       "VBox(children=(Label(value='Select your bear!'), FileUpload(value={}, description='Upload'), Button(descriptio…"
      ]
     },
     "metadata": {},
     "output_type": "display_data"
    }
   ],
   "source": [
    "# widgets to upload picture\n",
    "btn_upload = widgets.FileUpload()\n",
    "# widget that will show the uploaded image\n",
    "out_pl = widgets.Output()\n",
    "# label widget that will show the prediction and the probability\n",
    "lbl_pred = widgets.Label()\n",
    "# Run button that will classify the image\n",
    "btn_run = widgets.Button(description='Classify')\n",
    "\n",
    "def on_click_classify(arguments):\n",
    "    img = PILImage.create(btn_upload.data[-1])\n",
    "    out_pl.clear_output()\n",
    "    # with means that the ouput class has __enter and __exit__ function, reminder\n",
    "    with out_pl:display(img.to_thumb(128,128))\n",
    "    pred,pred_idx,probs = learn_inf.predict(img)\n",
    "    lbl_pred.value = f'Prediction: {pred}; Probability: {probs[pred_idx]:.04f}'\n",
    "\n",
    "btn_run.on_click(on_click_classify)\n",
    "\n",
    "# The whole widget\n",
    "VBox([widgets.Label('Select your bear!'), \n",
    "      btn_upload, btn_run, out_pl, lbl_pred])"
   ]
  },
  {
   "cell_type": "code",
   "execution_count": 8,
   "id": "90ffc99a",
   "metadata": {},
   "outputs": [],
   "source": [
    "#!pip install voila\n",
    "#!jupyter serverextension enable --sys-prefix voila \n",
    "#!sudo initctl restart jupyter-server --no-wait"
   ]
  },
  {
   "cell_type": "code",
   "execution_count": null,
   "id": "cd12f76d",
   "metadata": {},
   "outputs": [],
   "source": []
  }
 ],
 "metadata": {
  "kernelspec": {
   "display_name": "conda_pytorch_latest_p36",
   "language": "python",
   "name": "conda_pytorch_latest_p36"
  },
  "language_info": {
   "codemirror_mode": {
    "name": "ipython",
    "version": 3
   },
   "file_extension": ".py",
   "mimetype": "text/x-python",
   "name": "python",
   "nbconvert_exporter": "python",
   "pygments_lexer": "ipython3",
   "version": "3.6.13"
  }
 },
 "nbformat": 4,
 "nbformat_minor": 5
}
